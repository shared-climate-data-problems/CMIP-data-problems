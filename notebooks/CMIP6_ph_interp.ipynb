#import packages
import xarray as xr
import numpy as np
import xesmf as xe #not in r87 env, use CLEX env.
from datetime import datetime
import matplotlib.pyplot as plt

#lat/lons required for this work (Federated States of Micronesia)
#may need to split these into 4 states - wait for confirmation of lat lons for each state - this is whole of FSM
minlon=135.0
maxlon=170.0
minlat=-1.0
maxlat=14.0

#OceanSODA grid to regrid all models and CMCC model used to interpolate onto for ocean level data
#new grid for regridding to OceanSODA
newgrid = xr.open_mfdataset('/g/data/dk7/rg9861/OA/OceanSODA_ETHZ-v2023.OCADS.01_1982-2022.nc')
#new lev for interpolating to CMCC model levels
cmcclev = xr.open_mfdataset(f'/g/data/oi10/replicas/CMIP6/ScenarioMIP/CMCC/CMCC-ESM2/ssp126/r1i1p1f1/Omon/ph/gn/v20210126/ph_Omon_CMCC-ESM2_ssp126_r1i1p1f1_gn_201501-203412.nc',use_cftime=True)
newlev = cmcclev.lev

#open a GCM dataset
ph = xr.open_mfdataset(f'/g/data/oi10/replicas/CMIP6/ScenarioMIP/NOAA-GFDL/GFDL-ESM4/ssp126/r1i1p1f1/Omon/ph/gr/v20180701/ph_Omon_GFDL-ESM4_ssp126_r1i1p1f1_gr_*.nc',use_cftime=True,decode_cf=True).sel(time=slice("2020-01-01","2099-12-31"))
ph

#run the regridder code for OceanSODA
regridder = xe.Regridder(ph, newgrid, "bilinear",periodic=True,ignore_degenerate=True)
temp = regridder(ph,keep_attrs=True,skipna=True,na_thres=.5)

#cut to desired lat/lons
mylon = temp.lon[:]
mylat = temp.lat[:]
temp = temp.assign_coords(lat=list(mylat.values)).assign_coords(lon=list(mylon.values))
temp_sub = temp.sel(lon=slice(minlon,maxlon),lat=slice(minlat,maxlat))

#show ph values for all times, but just first lat/lon grid cell
temp_sub['ph'][0,0,0,:].values

#interpolating to CMCC ocean levels
temp_sub_lev = temp_sub.interp(lev=newlev,assume_sorted=True,method='linear')

#save only first level
temp_sub_lev1 = temp_sub_lev.isel(lev=0)

#show ph values for all times, but just first lat/lon grid cell
temp_sub_lev1['ph'][:,0,0].values
